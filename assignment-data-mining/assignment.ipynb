{
 "cells": [
  {
   "cell_type": "markdown",
   "metadata": {},
   "source": [
    "# Prerequisites\n",
    "- Install required libraries in requirements.txt  "
   ]
  },
  {
   "cell_type": "markdown",
   "metadata": {},
   "source": [
    "\n",
    "## 2.6 DATASET: VOOBEELD7 "
   ]
  },
  {
   "cell_type": "markdown",
   "metadata": {},
   "source": [
    "Import the data from **voorbeeld7_1.sav** and save the table under the name `chol1`.\n",
    "\n",
    "#### (a) ScatterPlot\n",
    "Make a scatter plot, with the function lmplot (using the seaborn library), from the column cholesterol chol (y-axis) and age leeftijd (x-axis). Add then a regression line to the graph with\n",
    "lmplot(..,fit_reg=True)"
   ]
  },
  {
   "cell_type": "code",
   "execution_count": 30,
   "metadata": {},
   "outputs": [],
   "source": [
    "import pandas as pd\n",
    "import numpy as np\n",
    "import matplotlib.pyplot as plt\n",
    "import seaborn as sns\n",
    "import statsmodels as stm\n",
    "import pyreadstat"
   ]
  },
  {
   "cell_type": "code",
   "execution_count": 31,
   "metadata": {},
   "outputs": [
    {
     "name": "stdout",
     "output_type": "stream",
     "text": [
      "['id', 'chol', 'leeftijd', 'bmi', 'actief', 'roken', 'sekse', 'alcohol']\n"
     ]
    },
    {
     "data": {
      "text/html": [
       "<div>\n",
       "<style scoped>\n",
       "    .dataframe tbody tr th:only-of-type {\n",
       "        vertical-align: middle;\n",
       "    }\n",
       "\n",
       "    .dataframe tbody tr th {\n",
       "        vertical-align: top;\n",
       "    }\n",
       "\n",
       "    .dataframe thead th {\n",
       "        text-align: right;\n",
       "    }\n",
       "</style>\n",
       "<table border=\"1\" class=\"dataframe\">\n",
       "  <thead>\n",
       "    <tr style=\"text-align: right;\">\n",
       "      <th></th>\n",
       "      <th>id</th>\n",
       "      <th>chol</th>\n",
       "      <th>leeftijd</th>\n",
       "      <th>bmi</th>\n",
       "      <th>actief</th>\n",
       "      <th>roken</th>\n",
       "      <th>sekse</th>\n",
       "      <th>alcohol</th>\n",
       "    </tr>\n",
       "  </thead>\n",
       "  <tbody>\n",
       "    <tr>\n",
       "      <th>0</th>\n",
       "      <td>1.0</td>\n",
       "      <td>7.9</td>\n",
       "      <td>66.0</td>\n",
       "      <td>27.41</td>\n",
       "      <td>1.0</td>\n",
       "      <td>0.0</td>\n",
       "      <td>1.0</td>\n",
       "      <td>0.0</td>\n",
       "    </tr>\n",
       "    <tr>\n",
       "      <th>1</th>\n",
       "      <td>2.0</td>\n",
       "      <td>7.5</td>\n",
       "      <td>83.0</td>\n",
       "      <td>26.85</td>\n",
       "      <td>1.0</td>\n",
       "      <td>0.0</td>\n",
       "      <td>1.0</td>\n",
       "      <td>2.0</td>\n",
       "    </tr>\n",
       "    <tr>\n",
       "      <th>2</th>\n",
       "      <td>3.0</td>\n",
       "      <td>7.6</td>\n",
       "      <td>84.0</td>\n",
       "      <td>27.24</td>\n",
       "      <td>1.0</td>\n",
       "      <td>0.0</td>\n",
       "      <td>1.0</td>\n",
       "      <td>2.0</td>\n",
       "    </tr>\n",
       "    <tr>\n",
       "      <th>3</th>\n",
       "      <td>4.0</td>\n",
       "      <td>6.0</td>\n",
       "      <td>65.0</td>\n",
       "      <td>27.50</td>\n",
       "      <td>1.0</td>\n",
       "      <td>0.0</td>\n",
       "      <td>1.0</td>\n",
       "      <td>2.0</td>\n",
       "    </tr>\n",
       "    <tr>\n",
       "      <th>4</th>\n",
       "      <td>5.0</td>\n",
       "      <td>6.2</td>\n",
       "      <td>56.0</td>\n",
       "      <td>27.78</td>\n",
       "      <td>1.0</td>\n",
       "      <td>0.0</td>\n",
       "      <td>1.0</td>\n",
       "      <td>0.0</td>\n",
       "    </tr>\n",
       "  </tbody>\n",
       "</table>\n",
       "</div>"
      ],
      "text/plain": [
       "    id  chol  leeftijd    bmi  actief  roken  sekse  alcohol\n",
       "0  1.0   7.9      66.0  27.41     1.0    0.0    1.0      0.0\n",
       "1  2.0   7.5      83.0  26.85     1.0    0.0    1.0      2.0\n",
       "2  3.0   7.6      84.0  27.24     1.0    0.0    1.0      2.0\n",
       "3  4.0   6.0      65.0  27.50     1.0    0.0    1.0      2.0\n",
       "4  5.0   6.2      56.0  27.78     1.0    0.0    1.0      0.0"
      ]
     },
     "execution_count": 31,
     "metadata": {},
     "output_type": "execute_result"
    }
   ],
   "source": [
    "chol1, meta = pyreadstat.read_sav(\"./voorbeeld7_1-1.sav\")\n",
    "print(meta.column_names)\n",
    "chol1.head()"
   ]
  },
  {
   "cell_type": "code",
   "execution_count": 32,
   "metadata": {},
   "outputs": [
    {
     "name": "stdout",
     "output_type": "stream",
     "text": [
      "               id        chol    leeftijd         bmi      actief       roken  \\\n",
      "count  200.000000  200.000000  200.000000  200.000000  200.000000  200.000000   \n",
      "mean   100.500000    6.283400   61.895000   28.241310    1.955000    0.350000   \n",
      "std     57.879185    0.802654    6.310554    2.961234    0.784892    0.478167   \n",
      "min      1.000000    4.400000   49.000000   20.797000    1.000000    0.000000   \n",
      "25%     50.750000    5.800000   57.750000   26.271250    1.000000    0.000000   \n",
      "50%    100.500000    6.200000   62.000000   28.125000    2.000000    0.000000   \n",
      "75%    150.250000    6.732500   65.000000   29.732500    3.000000    1.000000   \n",
      "max    200.000000    8.200000   84.000000   37.565000    3.000000    1.000000   \n",
      "\n",
      "            sekse     alcohol  \n",
      "count  200.000000  200.000000  \n",
      "mean     0.410000    0.765000  \n",
      "std      0.493068    0.722763  \n",
      "min      0.000000    0.000000  \n",
      "25%      0.000000    0.000000  \n",
      "50%      0.000000    1.000000  \n",
      "75%      1.000000    1.000000  \n",
      "max      1.000000    2.000000  \n"
     ]
    },
    {
     "data": {
      "text/plain": [
       "array([0., 2., 1.])"
      ]
     },
     "execution_count": 32,
     "metadata": {},
     "output_type": "execute_result"
    }
   ],
   "source": [
    "print(chol1.describe())  \n",
    "# sekse=sex is a factorial variable\n",
    "chol1.alcohol.unique() #also alcohol so i will convert them to factors\n",
    "##chol1 = pd.get_dummies(chol1, columns=[\"sekse\", \"alcohol\"], drop_first=True)"
   ]
  },
  {
   "cell_type": "code",
   "execution_count": 33,
   "metadata": {},
   "outputs": [
    {
     "data": {
      "text/html": [
       "<div>\n",
       "<style scoped>\n",
       "    .dataframe tbody tr th:only-of-type {\n",
       "        vertical-align: middle;\n",
       "    }\n",
       "\n",
       "    .dataframe tbody tr th {\n",
       "        vertical-align: top;\n",
       "    }\n",
       "\n",
       "    .dataframe thead th {\n",
       "        text-align: right;\n",
       "    }\n",
       "</style>\n",
       "<table border=\"1\" class=\"dataframe\">\n",
       "  <thead>\n",
       "    <tr style=\"text-align: right;\">\n",
       "      <th></th>\n",
       "      <th>id</th>\n",
       "      <th>chol</th>\n",
       "      <th>leeftijd</th>\n",
       "      <th>bmi</th>\n",
       "      <th>actief</th>\n",
       "      <th>roken</th>\n",
       "      <th>sekse</th>\n",
       "      <th>alcohol</th>\n",
       "    </tr>\n",
       "  </thead>\n",
       "  <tbody>\n",
       "    <tr>\n",
       "      <th>0</th>\n",
       "      <td>1.0</td>\n",
       "      <td>7.90</td>\n",
       "      <td>66.0</td>\n",
       "      <td>27.410</td>\n",
       "      <td>1.0</td>\n",
       "      <td>0.0</td>\n",
       "      <td>1.0</td>\n",
       "      <td>0.0</td>\n",
       "    </tr>\n",
       "    <tr>\n",
       "      <th>1</th>\n",
       "      <td>2.0</td>\n",
       "      <td>7.50</td>\n",
       "      <td>83.0</td>\n",
       "      <td>26.850</td>\n",
       "      <td>1.0</td>\n",
       "      <td>0.0</td>\n",
       "      <td>1.0</td>\n",
       "      <td>2.0</td>\n",
       "    </tr>\n",
       "    <tr>\n",
       "      <th>2</th>\n",
       "      <td>3.0</td>\n",
       "      <td>7.60</td>\n",
       "      <td>84.0</td>\n",
       "      <td>27.240</td>\n",
       "      <td>1.0</td>\n",
       "      <td>0.0</td>\n",
       "      <td>1.0</td>\n",
       "      <td>2.0</td>\n",
       "    </tr>\n",
       "    <tr>\n",
       "      <th>3</th>\n",
       "      <td>4.0</td>\n",
       "      <td>6.00</td>\n",
       "      <td>65.0</td>\n",
       "      <td>27.500</td>\n",
       "      <td>1.0</td>\n",
       "      <td>0.0</td>\n",
       "      <td>1.0</td>\n",
       "      <td>2.0</td>\n",
       "    </tr>\n",
       "    <tr>\n",
       "      <th>4</th>\n",
       "      <td>5.0</td>\n",
       "      <td>6.20</td>\n",
       "      <td>56.0</td>\n",
       "      <td>27.780</td>\n",
       "      <td>1.0</td>\n",
       "      <td>0.0</td>\n",
       "      <td>1.0</td>\n",
       "      <td>0.0</td>\n",
       "    </tr>\n",
       "    <tr>\n",
       "      <th>...</th>\n",
       "      <td>...</td>\n",
       "      <td>...</td>\n",
       "      <td>...</td>\n",
       "      <td>...</td>\n",
       "      <td>...</td>\n",
       "      <td>...</td>\n",
       "      <td>...</td>\n",
       "      <td>...</td>\n",
       "    </tr>\n",
       "    <tr>\n",
       "      <th>195</th>\n",
       "      <td>196.0</td>\n",
       "      <td>6.53</td>\n",
       "      <td>64.0</td>\n",
       "      <td>30.417</td>\n",
       "      <td>3.0</td>\n",
       "      <td>1.0</td>\n",
       "      <td>0.0</td>\n",
       "      <td>1.0</td>\n",
       "    </tr>\n",
       "    <tr>\n",
       "      <th>196</th>\n",
       "      <td>197.0</td>\n",
       "      <td>6.50</td>\n",
       "      <td>65.0</td>\n",
       "      <td>30.300</td>\n",
       "      <td>3.0</td>\n",
       "      <td>1.0</td>\n",
       "      <td>0.0</td>\n",
       "      <td>1.0</td>\n",
       "    </tr>\n",
       "    <tr>\n",
       "      <th>197</th>\n",
       "      <td>198.0</td>\n",
       "      <td>6.40</td>\n",
       "      <td>66.0</td>\n",
       "      <td>29.910</td>\n",
       "      <td>3.0</td>\n",
       "      <td>1.0</td>\n",
       "      <td>0.0</td>\n",
       "      <td>1.0</td>\n",
       "    </tr>\n",
       "    <tr>\n",
       "      <th>198</th>\n",
       "      <td>199.0</td>\n",
       "      <td>5.50</td>\n",
       "      <td>64.0</td>\n",
       "      <td>27.400</td>\n",
       "      <td>3.0</td>\n",
       "      <td>1.0</td>\n",
       "      <td>0.0</td>\n",
       "      <td>1.0</td>\n",
       "    </tr>\n",
       "    <tr>\n",
       "      <th>199</th>\n",
       "      <td>200.0</td>\n",
       "      <td>6.90</td>\n",
       "      <td>71.0</td>\n",
       "      <td>33.860</td>\n",
       "      <td>3.0</td>\n",
       "      <td>1.0</td>\n",
       "      <td>0.0</td>\n",
       "      <td>1.0</td>\n",
       "    </tr>\n",
       "  </tbody>\n",
       "</table>\n",
       "<p>200 rows × 8 columns</p>\n",
       "</div>"
      ],
      "text/plain": [
       "        id  chol  leeftijd     bmi  actief  roken  sekse  alcohol\n",
       "0      1.0  7.90      66.0  27.410     1.0    0.0    1.0      0.0\n",
       "1      2.0  7.50      83.0  26.850     1.0    0.0    1.0      2.0\n",
       "2      3.0  7.60      84.0  27.240     1.0    0.0    1.0      2.0\n",
       "3      4.0  6.00      65.0  27.500     1.0    0.0    1.0      2.0\n",
       "4      5.0  6.20      56.0  27.780     1.0    0.0    1.0      0.0\n",
       "..     ...   ...       ...     ...     ...    ...    ...      ...\n",
       "195  196.0  6.53      64.0  30.417     3.0    1.0    0.0      1.0\n",
       "196  197.0  6.50      65.0  30.300     3.0    1.0    0.0      1.0\n",
       "197  198.0  6.40      66.0  29.910     3.0    1.0    0.0      1.0\n",
       "198  199.0  5.50      64.0  27.400     3.0    1.0    0.0      1.0\n",
       "199  200.0  6.90      71.0  33.860     3.0    1.0    0.0      1.0\n",
       "\n",
       "[200 rows x 8 columns]"
      ]
     },
     "execution_count": 33,
     "metadata": {},
     "output_type": "execute_result"
    }
   ],
   "source": [
    "chol1"
   ]
  },
  {
   "cell_type": "code",
   "execution_count": 34,
   "metadata": {},
   "outputs": [
    {
     "data": {
      "image/png": "[encoded data removed]",
      "text/plain": [
       "<Figure size 500x500 with 1 Axes>"
      ]
     },
     "metadata": {},
     "output_type": "display_data"
    }
   ],
   "source": [
    "sns.lmplot(data=chol1, y='chol', x='leeftijd',fit_reg=True,  line_kws={\"color\": \"red\"})\n",
    "plt.show()"
   ]
  },
  {
   "cell_type": "markdown",
   "metadata": {},
   "source": [
    "#### (b) Fit a Linear Model\n",
    "Fit a linear model for chol with leeftijd using the function ols (using the statsmodels library). The\n",
    "formula for the model is chol˜leeftijd. Save the fitobject under the name fit1. View the result\n",
    "with fit1.summary()."
   ]
  },
  {
   "cell_type": "code",
   "execution_count": 35,
   "metadata": {},
   "outputs": [
    {
     "name": "stdout",
     "output_type": "stream",
     "text": [
      "                            OLS Regression Results                            \n",
      "==============================================================================\n",
      "Dep. Variable:                   chol   R-squared:                       0.236\n",
      "Model:                            OLS   Adj. R-squared:                  0.232\n",
      "Method:                 Least Squares   F-statistic:                     61.19\n",
      "Date:                Mon, 10 Feb 2025   Prob (F-statistic):           3.04e-13\n",
      "Time:                        16:30:43   Log-Likelihood:                -212.39\n",
      "No. Observations:                 200   AIC:                             428.8\n",
      "Df Residuals:                     198   BIC:                             435.4\n",
      "Df Model:                           1                                         \n",
      "Covariance Type:            nonrobust                                         \n",
      "==============================================================================\n",
      "                 coef    std err          t      P>|t|      [0.025      0.975]\n",
      "------------------------------------------------------------------------------\n",
      "Intercept      2.4584      0.492      5.002      0.000       1.489       3.428\n",
      "leeftijd       0.0618      0.008      7.822      0.000       0.046       0.077\n",
      "==============================================================================\n",
      "Omnibus:                        3.098   Durbin-Watson:                   1.036\n",
      "Prob(Omnibus):                  0.212   Jarque-Bera (JB):                3.162\n",
      "Skew:                           0.286   Prob(JB):                        0.206\n",
      "Kurtosis:                       2.770   Cond. No.                         615.\n",
      "==============================================================================\n",
      "\n",
      "Notes:\n",
      "[1] Standard Errors assume that the covariance matrix of the errors is correctly specified.\n"
     ]
    }
   ],
   "source": [
    "import statsmodels.api as sm\n",
    "import statsmodels.formula.api as smf\n",
    "\n",
    "fit1 = smf.ols(\"chol ~ leeftijd\", data=chol1).fit()\n",
    "print(fit1.summary())"
   ]
  },
  {
   "cell_type": "code",
   "execution_count": null,
   "metadata": {},
   "outputs": [],
   "source": []
  },
  {
   "cell_type": "markdown",
   "metadata": {},
   "source": [
    "#### (c) Fit a Multiple Linear Model\n",
    "Fit a model fit2 for chol with leeftijd, bmi, sekse and alcohol. Which factors are statistically\n",
    "significant?"
   ]
  },
  {
   "cell_type": "code",
   "execution_count": null,
   "metadata": {},
   "outputs": [
    {
     "name": "stdout",
     "output_type": "stream",
     "text": [
      "                            OLS Regression Results                            \n",
      "==============================================================================\n",
      "Dep. Variable:                   chol   R-squared:                       0.396\n",
      "Model:                            OLS   Adj. R-squared:                  0.383\n",
      "Method:                 Least Squares   F-statistic:                     31.93\n",
      "Date:                Mon, 10 Feb 2025   Prob (F-statistic):           1.83e-20\n",
      "Time:                        16:31:25   Log-Likelihood:                -188.94\n",
      "No. Observations:                 200   AIC:                             387.9\n",
      "Df Residuals:                     195   BIC:                             404.4\n",
      "Df Model:                           4                                         \n",
      "Covariance Type:            nonrobust                                         \n",
      "==============================================================================\n",
      "                 coef    std err          t      P>|t|      [0.025      0.975]\n",
      "------------------------------------------------------------------------------\n",
      "Intercept     -0.1829      0.609     -0.301      0.764      -1.383       1.017\n",
      "leeftijd       0.0329      0.008      3.921      0.000       0.016       0.049\n",
      "bmi            0.1330      0.019      6.937      0.000       0.095       0.171\n",
      "sekse          1.0012      0.189      5.293      0.000       0.628       1.374\n",
      "alcohol        0.3492      0.109      3.212      0.002       0.135       0.564\n",
      "==============================================================================\n",
      "Omnibus:                        4.439   Durbin-Watson:                   1.015\n",
      "Prob(Omnibus):                  0.109   Jarque-Bera (JB):                4.221\n",
      "Skew:                           0.258   Prob(JB):                        0.121\n",
      "Kurtosis:                       3.489   Cond. No.                         940.\n",
      "==============================================================================\n",
      "\n",
      "Notes:\n",
      "[1] Standard Errors assume that the covariance matrix of the errors is correctly specified.\n"
     ]
    }
   ],
   "source": [
    "fit2 = smf.ols(\"chol ~ leeftijd + bmi + sekse + alcohol\", data=chol1).fit()\n",
    "print(fit2.summary())\n"
   ]
  },
  {
   "cell_type": "code",
   "execution_count": 49,
   "metadata": {},
   "outputs": [
    {
     "name": "stdout",
     "output_type": "stream",
     "text": [
      "Index(['id', 'chol', 'leeftijd', 'bmi', 'actief', 'roken', 'sekse_1',\n",
      "       'alcohol_Low', 'alcohol_High'],\n",
      "      dtype='object')\n",
      "                            OLS Regression Results                            \n",
      "==============================================================================\n",
      "Dep. Variable:                   chol   R-squared:                       0.489\n",
      "Model:                            OLS   Adj. R-squared:                  0.471\n",
      "Method:                 Least Squares   F-statistic:                     26.29\n",
      "Date:                Mon, 10 Feb 2025   Prob (F-statistic):           4.64e-25\n",
      "Time:                        16:36:54   Log-Likelihood:                -172.11\n",
      "No. Observations:                 200   AIC:                             360.2\n",
      "Df Residuals:                     192   BIC:                             386.6\n",
      "Df Model:                           7                                         \n",
      "Covariance Type:            nonrobust                                         \n",
      "========================================================================================\n",
      "                           coef    std err          t      P>|t|      [0.025      0.975]\n",
      "----------------------------------------------------------------------------------------\n",
      "Intercept               -0.7894      0.575     -1.372      0.172      -1.924       0.345\n",
      "sekse_1[T.True]          0.5087      0.264      1.927      0.055      -0.012       1.029\n",
      "alcohol_Low[T.True]     -0.4757      0.269     -1.770      0.078      -1.006       0.055\n",
      "alcohol_High[T.True]     0.1643      0.249      0.661      0.510      -0.326       0.655\n",
      "leeftijd                 0.0354      0.008      4.220      0.000       0.019       0.052\n",
      "bmi                      0.1672      0.020      8.297      0.000       0.127       0.207\n",
      "actief                  -0.0044      0.063     -0.070      0.945      -0.128       0.120\n",
      "roken                    0.3861      0.100      3.870      0.000       0.189       0.583\n",
      "==============================================================================\n",
      "Omnibus:                        6.605   Durbin-Watson:                   1.136\n",
      "Prob(Omnibus):                  0.037   Jarque-Bera (JB):                6.780\n",
      "Skew:                           0.448   Prob(JB):                       0.0337\n",
      "Kurtosis:                       2.899   Cond. No.                         965.\n",
      "==============================================================================\n",
      "\n",
      "Notes:\n",
      "[1] Standard Errors assume that the covariance matrix of the errors is correctly specified.\n"
     ]
    }
   ],
   "source": [
    "## this if we want to use one-hot encoding\n",
    "### convert to factors\n",
    "chol2 = chol1.copy()\n",
    "chol2[\"sekse\"] = chol2[\"sekse\"].astype(str)\n",
    "chol2[\"alcohol\"] = chol2[\"alcohol\"].astype(str)\n",
    "\n",
    "chol2 = pd.get_dummies(chol2, columns=[\"sekse\", \"alcohol\"], drop_first=True)\n",
    "\n",
    "chol2 = chol2.rename(columns={\n",
    "    \"sekse_1.0\": \"sekse_1\",\n",
    "    \"alcohol_1.0\": \"alcohol_Low\",\n",
    "    \"alcohol_2.0\": \"alcohol_High\"\n",
    "})\n",
    "\n",
    "print(chol2.columns\n",
    "      )\n",
    "fit2_factors = smf.ols(\"chol ~ leeftijd + bmi + actief + roken + sekse_1 + alcohol_Low + alcohol_High\", data=chol2).fit()\n",
    "print(fit2_factors.summary())"
   ]
  },
  {
   "cell_type": "markdown",
   "metadata": {},
   "source": [
    "#### (d) Residuals and Histogram\n",
    "- Add the residuals from `fit2` to the table `chol1`.\n",
    "- Create a histogram of the residuals."
   ]
  },
  {
   "cell_type": "code",
   "execution_count": 56,
   "metadata": {},
   "outputs": [
    {
     "data": {
      "image/png": "[encoded data removed]",
      "text/plain": [
       "<Figure size 640x480 with 1 Axes>"
      ]
     },
     "metadata": {},
     "output_type": "display_data"
    }
   ],
   "source": [
    "chol1[\"residuals\"] = fit2.resid\n",
    "plt.hist(chol1[\"residuals\"], bins=40)\n",
    "plt.xlabel(\"Residuals\")\n",
    "plt.ylabel(\"Frequency\")\n",
    "plt.title(\"Hist of Residuals\")\n",
    "plt.show()\n"
   ]
  },
  {
   "cell_type": "markdown",
   "metadata": {},
   "source": [
    "<hr>\n",
    "\n",
    "## 2.7 DATASET: Births\n",
    "\n",
    "- Import the dataset **births.csv** and name the table `births`.\n",
    "- This dataset contains data from **49,703** childbirths from the year **1995**.\n",
    "\n",
    "#### (a) Recode `child_birth` into `home`\n",
    "- Create a new variable `home` where:\n",
    "  - `home = 'at_home'` if the childbirth was a first-line childbirth (at home).\n",
    "  - Otherwise, `home = 'not_at_home'`.\n",
    "- Use the **apply** function with a **lambda function** or the **map function** with a dictionary.\n",
    "\n",
    "#### (b) Recode `parity` into `pari`\n",
    "- Create a new variable `pari`:\n",
    "  - `pari = 'primi'` if it is a **first childbirth**.\n",
    "  - `pari = 'multi'` if it is the **second or more childbirth**.\n",
    "- Use the **apply** or **map** function.\n",
    "\n",
    "#### (c) Recode `etnicity` into `etni`\n",
    "- Create a new variable `etni`:\n",
    "  - `etni = 'Dutch'` if the woman was **Dutch**.\n",
    "  - `etni = 'Not Dutch'` if she was **not Dutch**.\n",
    "- Use `unique()` from the pandas library to inspect the levels of the variable `etnicity`.\n",
    "\n",
    "#### (d) Logistic Regression Model\n",
    "- Using the **sklearn** library, create a logistic regression model with the function `LogisticRegression` to predict the probability of childbirth at home.\n",
    "- Use the variables:\n",
    "  - `pari`, `age_cat` (age categorized), `etni`, and `urban` (urbanization degree).\n",
    "- View the model's outcomes using:\n",
    "  ```\n",
    "  classification_report()\n",
    "  ```\n",
    "\n",
    "#### (e) Decision Tree Model\n",
    "- Using the **sklearn** library, create a decision tree for predicting childbirth at home with the same variables as the logistic regression model.\n",
    "- View the decision tree using:\n",
    "  ```\n",
    "  tree.plot_tree\n",
    "  ```\n",
    "\n",
    "#### (f) Model Comparison with Cross-Validation\n",
    "- To assess whether the **logistic regression model** or the **decision tree** fits the data better:\n",
    "  - Fit the models on a **training set**.\n",
    "  - Calculate accuracy statistics on a **test set** (or use cross-validation).\n",
    "- Use:\n",
    "  ```\n",
    "  sklearn.model_selection\n",
    "  cross_val_score\n",
    "  ```\n",
    "- Determine which model fits the data better.\n",
    "```"
   ]
  }
 ],
 "metadata": {
  "kernelspec": {
   "display_name": "dsenv",
   "language": "python",
   "name": "python3"
  },
  "language_info": {
   "codemirror_mode": {
    "name": "ipython",
    "version": 3
   },
   "file_extension": ".py",
   "mimetype": "text/x-python",
   "name": "python",
   "nbconvert_exporter": "python",
   "pygments_lexer": "ipython3",
   "version": "3.11.5"
  }
 },
 "nbformat": 4,
 "nbformat_minor": 2
}
