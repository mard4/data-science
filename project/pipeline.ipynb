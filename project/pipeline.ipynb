{
 "cells": [
  {
   "cell_type": "code",
   "execution_count": null,
   "metadata": {},
   "outputs": [],
   "source": [
    "from connection import * \n",
    "import numpy as np\n",
    "from sqlalchemy import create_engine \n",
    "import psycopg2\n",
    "import pandas as pd\n",
    "import seaborn as sns\n",
    "import matplotlib.pyplot as plt\n",
    "import warnings\n",
    "import math\n",
    "from sklearn.model_selection import StratifiedKFold\n",
    "import pandas as pd\n",
    "import numpy as np\n",
    "from sklearn.model_selection import train_test_split, cross_val_score\n",
    "from sklearn.experimental import enable_iterative_imputer\n",
    "from sklearn.impute import IterativeImputer\n",
    "from sklearn.preprocessing import StandardScaler\n",
    "from sklearn.base import BaseEstimator, TransformerMixin\n",
    "from sklearn.linear_model import LogisticRegression\n",
    "from sklearn.ensemble import RandomForestClassifier\n",
    "from imblearn.over_sampling import SMOTE, SMOTENC\n",
    "from imblearn.under_sampling import RandomUnderSampler\n",
    "from imblearn.pipeline import Pipeline as ImbPipeline\n",
    "from imblearn.over_sampling import SMOTE\n",
    "from imblearn.under_sampling import RandomUnderSampler\n",
    "from sklearn.pipeline import Pipeline\n",
    "from sklearn.decomposition import PCA\n",
    "from sklearn.ensemble import RandomForestClassifier\n",
    "from sklearn.feature_selection import SelectKBest, f_classif\n",
    "\n",
    "\n",
    "np.random.seed(42)\n",
    "\n",
    "warnings.filterwarnings('ignore')\n",
    "\n",
    "DB_HOST = DB_HOST\n",
    "DB_NAME = DB_NAME\n",
    "DB_USER = DB_USER       \n",
    "DB_PASS = DB_PASS       \n",
    "DB_PORT = DB_PORT              \n",
    "\n",
    "engine = create_engine(f'postgresql://{DB_USER}:{DB_PASS}@{DB_HOST}:{DB_PORT}/{DB_NAME}')\n",
    "\n",
    "def get_boolean_columns(engine, schema, table_name):\n",
    "    \"\"\"Get the right schema and table name for the boolean columns.\"\"\"\n",
    "    query = f\"\"\"\n",
    "            SELECT column_name\n",
    "            FROM information_schema.columns\n",
    "            WHERE table_schema = '{schema}' AND table_name = '{table_name}' AND data_type = 'boolean';\n",
    "            \"\"\"\n",
    "    result = pd.read_sql(query, engine)\n",
    "    return result['column_name'].tolist()\n",
    "\n",
    "clinical = pd.read_sql('SELECT * FROM project.clinical', engine)\n",
    "pain = pd.read_sql('SELECT * FROM project.pain', engine)\n",
    "patient = pd.read_sql('SELECT * FROM project.patient', engine)\n",
    "psychological = pd.read_sql('SELECT * FROM project.psychological', engine)\n",
    "radvice = pd.read_sql('SELECT * FROM project.radvice', engine)\n",
    "work = pd.read_sql('SELECT * FROM project.work', engine)"
   ]
  },
  {
   "cell_type": "code",
   "execution_count": null,
   "metadata": {},
   "outputs": [],
   "source": [
    "def convert_bool_to_int(table, engine, table_name):   \n",
    "    \"\"\"Get Boolean columns from PostgreSQL and convert them to int64 to overcome with NANs\"\"\" \n",
    "    bool_cols = get_boolean_columns(engine, 'project', table_name)\n",
    "    for col in bool_cols:\n",
    "        table[col] = table[col].astype('Int64')\n",
    "    return table\n",
    "\n",
    "clinical = convert_bool_to_int(clinical, engine, 'clinical')\n",
    "pain = convert_bool_to_int(pain, engine, 'pain')\n",
    "patient = convert_bool_to_int(patient, engine, 'patient')\n",
    "psychological = convert_bool_to_int(psychological, engine, 'psychological')\n",
    "radvice = convert_bool_to_int(radvice, engine, 'radvice')\n",
    "work = convert_bool_to_int(work, engine, 'work')\n",
    "#patient.serious_disease.value_counts(dropna=False)"
   ]
  },
  {
   "cell_type": "code",
   "execution_count": 49,
   "metadata": {},
   "outputs": [
    {
     "name": "stdout",
     "output_type": "stream",
     "text": [
      "Check final size of df:  1527\n",
      "Categorical features (Int64): ['treatment', 'family_history', 'serious_disease', 'fever', 'uses_analgesics', 'uses_corticosteroids', 'neurogenic_signals', 'loss_muscle_strength', 'failure_symptoms', 'depression', 'stress', 'sick_leave', 'earlier_hospitalization', 'paidwork']\n"
     ]
    }
   ],
   "source": [
    "# Join all the tables\n",
    "df_merged = radvice.merge(patient, left_on='patient_id', right_on='patient_id', how='left')\n",
    "df_merged = df_merged.merge(clinical, left_on='patient_id', right_on='patient_id', how='left')\n",
    "df_merged = df_merged.merge(psychological, left_on='patient_id', right_on='patient_id', how='left')\n",
    "df_merged = df_merged.merge(pain, left_on='patient_id', right_on='patient_id', how='left')\n",
    "df_merged = df_merged.merge(work, left_on='patient_id', right_on='patient_id', how='left')\n",
    "df_merged = df_merged.drop(columns=['patient_id','treatment_description'])\n",
    "print(\"Check final size of df: \", len(df_merged))\n",
    "\n",
    "df = df_merged.copy()\n",
    "\n",
    "# continous\n",
    "continous_columns =  [\n",
    "    'decreased_mobility',\n",
    "    'weightloss_per_year',\n",
    "    'extremely_nervous',\n",
    "    'irrational_thoughts_risk_lasting',\n",
    "    'coping_strategy',\n",
    "    'kinesiophobia_physical_exercise',\n",
    "    'kinesiophobia_pain_stop',\n",
    "    'nocturnal_pain',\n",
    "    'continuous_pain',\n",
    "    'duration_of_pain',\n",
    "    'neck_pain_intensity',\n",
    "    'low_back_pain_intensity',\n",
    "    'arm_left_pain_intensity',\n",
    "    'arm_right_pain_intensity',\n",
    "    'leg_left_pain_intensity',\n",
    "    'leg_right_pain_intensity'\n",
    "]\n",
    "df[continous_columns] = df[continous_columns].astype(float)\n",
    "\n",
    "cat_cols = [col for col in df.columns if str(df[col].dtype).lower().startswith('int')]\n",
    "print(\"Categorical features (Int64):\", cat_cols)"
   ]
  },
  {
   "cell_type": "code",
   "execution_count": null,
   "metadata": {},
   "outputs": [
    {
     "name": "stdout",
     "output_type": "stream",
     "text": [
      "Shape of X: (1527, 30)\n",
      "Shape of y: (1527,)\n",
      "Shape of X: (1527, 27)\n"
     ]
    }
   ],
   "source": [
    "# Convert age to numerical\n",
    "df['age'] = df['age'].map({\n",
    "    '0-19': 10, '20-29': 25, '30-39': 35, '40-49': 45,\n",
    "    '50-59': 55, '60-69': 65, '70-79': 75, '>=80': 85\n",
    "}).astype(float)\n",
    "\n",
    "# Separate features (X) and target (y).\n",
    "X, y = df.drop(columns=['treatment']), df['treatment']\n",
    "column_names = X.columns\n",
    "print(\"Shape of X:\", X.shape)\n",
    "print(\"Shape of y:\", y.shape)\n",
    "#print(\"Missing before:\", np.isnan(X).sum())\n",
    "\n",
    "# Custom transformer for feature engineering.\n",
    "class CustomFeatureEngineer(BaseEstimator, TransformerMixin):\n",
    "    def __init__(self, column_names):\n",
    "        self.column_names = column_names\n",
    "\n",
    "    def fit(self, X, y=None):\n",
    "        return self\n",
    "\n",
    "    def transform(self, X, y=None):\n",
    "        # Convert array back to DataFrame so we can manipulate columns by name\n",
    "        df = pd.DataFrame(X, columns=self.column_names)\n",
    "        \n",
    "        # Arm, leg, neck\n",
    "        df['arm_pain'] = ((df['arm_left_pain_intensity'] > 0) | (df['arm_right_pain_intensity'] > 0)).astype('Int64')\n",
    "        df['leg_pain'] = ((df['leg_left_pain_intensity'] > 0) | (df['leg_right_pain_intensity'] > 0)).astype('Int64')\n",
    "        df['neck_pain'] = (df['neck_pain_intensity'] > 0).astype('Int64')\n",
    "\n",
    "        # Kinesiophobia\n",
    "        df['kinesiophobia'] = df[['kinesiophobia_pain_stop','kinesiophobia_physical_exercise']].mean(axis=1)\n",
    "\n",
    "        df = df.drop(columns=['kinesiophobia_pain_stop','kinesiophobia_physical_exercise',\n",
    "                              'arm_left_pain_intensity','arm_right_pain_intensity',\n",
    "                                'leg_left_pain_intensity','leg_right_pain_intensity',\n",
    "                                'neck_pain_intensity',\n",
    "                                ])\n",
    "        \n",
    "        return df\n",
    "    \n",
    "fe = CustomFeatureEngineer(column_names=column_names)\n",
    "X_fe = fe.fit_transform(X)\n",
    "X_fe_df = pd.DataFrame(X_fe, columns=fe.transform(pd.DataFrame(X, columns=column_names)).columns)\n",
    "print(\"Shape of X:\", X_fe_df.shape)\n"
   ]
  },
  {
   "cell_type": "markdown",
   "metadata": {},
   "source": [
    "# Modeling: considering all treatment types"
   ]
  },
  {
   "cell_type": "code",
   "execution_count": 25,
   "metadata": {},
   "outputs": [
    {
     "name": "stdout",
     "output_type": "stream",
     "text": [
      "Categorical feature indices for SMOTENC: ['treatment', 'family_history', 'serious_disease', 'fever', 'uses_analgesics', 'uses_corticosteroids', 'neurogenic_signals', 'loss_muscle_strength', 'failure_symptoms', 'depression', 'stress', 'sick_leave', 'earlier_hospitalization', 'paidwork']\n"
     ]
    }
   ],
   "source": [
    "#X_fe = pipeline.named_steps['feature_engineering'].transform(X_train)\n",
    "#cat_cols = [i for i, dt in enumerate(X_fe.dtypes) if dt.name == 'Int64']\n",
    "print(\"Categorical feature indices for SMOTENC:\", cat_cols)\n",
    "cat_cols_idx =[1, 2, 3, 4, 5, 6, 9, 10, 11, 13, 20, 21, 22, 23, 24, 25]\n",
    "\n",
    "X_train, X_test, y_train, y_test = train_test_split(\n",
    "    X_fe_df, y, test_size=0.2, stratify=y, random_state=42\n",
    ")"
   ]
  },
  {
   "cell_type": "markdown",
   "metadata": {},
   "source": [
    "## Random Forest"
   ]
  },
  {
   "cell_type": "code",
   "execution_count": null,
   "metadata": {},
   "outputs": [
    {
     "name": "stdout",
     "output_type": "stream",
     "text": [
      "Test score: 0.5229\n",
      "              precision    recall  f1-score   support\n",
      "\n",
      "           1       0.54      0.63      0.58       131\n",
      "           2       0.00      0.00      0.00        32\n",
      "           3       0.00      0.00      0.00        12\n",
      "           4       0.00      0.00      0.00         3\n",
      "           5       0.51      0.61      0.55       128\n",
      "\n",
      "    accuracy                           0.52       306\n",
      "   macro avg       0.21      0.25      0.23       306\n",
      "weighted avg       0.44      0.52      0.48       306\n",
      "\n"
     ]
    }
   ],
   "source": [
    "over = SMOTE(sampling_strategy='not majority', random_state=42)\n",
    "over2 = SMOTENC(categorical_features=cat_cols_idx, sampling_strategy='all', random_state=42)\n",
    "under = RandomUnderSampler(sampling_strategy='not minority', random_state=42)\n",
    "\n",
    "pipeline = ImbPipeline(steps=[\n",
    "    ('imputer', IterativeImputer(max_iter=50, skip_complete=True)),\n",
    "    #('smote', over),  # activate for oversampling\n",
    "    #('undersample', under),   # activate for undersampling\n",
    "    ('scaler', StandardScaler()),\n",
    "    ('classifier', RandomForestClassifier(class_weight='balanced',n_estimators = 1000, random_state = 42))\n",
    "])\n",
    "\n",
    "pipeline.fit(X_train, y_train)\n",
    "score = pipeline.score(X_test, y_test)\n",
    "print(f\"Test score: {score:.4f}\")\n",
    "from sklearn.metrics import classification_report\n",
    "\n",
    "y_pred = pipeline.predict(X_test)\n",
    "print(classification_report(y_test, y_pred,))\n",
    "\n",
    "\n",
    "# STRATIFIED cross-validation\n",
    "cv = StratifiedKFold(n_splits=5, shuffle=True, random_state=42)\n",
    "scores = cross_val_score(pipeline, X, y, cv=cv)\n",
    "print(f\"Mean CV accuracy:: {scores.mean():.4f}\")"
   ]
  },
  {
   "cell_type": "markdown",
   "metadata": {},
   "source": [
    "## Random forest with PCA"
   ]
  },
  {
   "cell_type": "markdown",
   "metadata": {},
   "source": [
    "### PC: 10"
   ]
  },
  {
   "cell_type": "code",
   "execution_count": null,
   "metadata": {},
   "outputs": [
    {
     "name": "stdout",
     "output_type": "stream",
     "text": [
      "Random Forest on PCA features - Test score: 0.3954\n",
      "Classification Report:\n",
      "              precision    recall  f1-score   support\n",
      "\n",
      "           1       0.47      0.47      0.47       131\n",
      "           2       0.22      0.28      0.25        32\n",
      "           3       0.15      0.17      0.16        12\n",
      "           4       0.10      0.33      0.15         3\n",
      "           5       0.43      0.37      0.40       128\n",
      "\n",
      "    accuracy                           0.40       306\n",
      "   macro avg       0.27      0.32      0.29       306\n",
      "weighted avg       0.41      0.40      0.40       306\n",
      "\n"
     ]
    }
   ],
   "source": [
    "pipeline = ImbPipeline(steps=[\n",
    "    ('imputer', IterativeImputer(max_iter=50)),\n",
    "    ##('smote', over),  # activate for oversampling\n",
    "    ##('undersample', under),   # activate for undersampling\n",
    "    ('scaler', StandardScaler()),\n",
    "    ('pca', PCA(n_components=10)),\n",
    "    ('classifier', RandomForestClassifier(class_weight='balanced',n_estimators=1000,random_state=42))\n",
    "])\n",
    "\n",
    "pipeline.fit(X_train, y_train)\n",
    "\n",
    "test_score = pipeline.score(X_test, y_test)\n",
    "print(f\"Random Forest on PCA features - Test score: {test_score:.4f}\")\n",
    "\n",
    "y_pred = pipeline.predict(X_test)\n",
    "print(\"Classification Report:\")\n",
    "print(classification_report(y_test, y_pred))\n"
   ]
  },
  {
   "cell_type": "markdown",
   "metadata": {},
   "source": [
    "### PC=4"
   ]
  },
  {
   "cell_type": "code",
   "execution_count": null,
   "metadata": {},
   "outputs": [
    {
     "name": "stdout",
     "output_type": "stream",
     "text": [
      "Random Forest on PCA features - Test score: 0.4641\n"
     ]
    }
   ],
   "source": [
    "# Create pipeline up to PCA\n",
    "pipeline_pca = ImbPipeline(steps=[\n",
    "    ('imputer', IterativeImputer(max_iter=50)),\n",
    "    #('smote', over),  # activate for oversampling\n",
    "    #('undersample', under),   # activate for undersampling\n",
    "    ('scaler', StandardScaler()),\n",
    "    ('pca', PCA(n_components=4))\n",
    "])\n",
    "\n",
    "X_train_pca = pipeline_pca.fit_transform(X_train, y_train)\n",
    "X_test_pca = pipeline_pca.transform(X_test)\n",
    "\n",
    "clf_pca = RandomForestClassifier(class_weight='balanced', n_estimators=1000, random_state=42)\n",
    "clf_pca.fit(X_train_pca, y_train)\n",
    "test_score = clf_pca.score(X_test_pca, y_test)\n",
    "print(f\"Random Forest on PCA features - Test score: {test_score:.4f}\")"
   ]
  },
  {
   "cell_type": "markdown",
   "metadata": {},
   "source": [
    "## Feature Selection with Univariate Statistical Tests"
   ]
  },
  {
   "cell_type": "code",
   "execution_count": null,
   "metadata": {},
   "outputs": [
    {
     "name": "stdout",
     "output_type": "stream",
     "text": [
      "Test score with SelectKBest: 0.4084967320261438\n",
      "Mean CV score with SelectKBest: 0.40277081324333014\n",
      "Selected features: ['age', 'family_history', 'fever', 'uses_corticosteroids', 'stress', 'coping_strategy', 'continuous_pain', 'paidwork', 'leg_pain', 'neck_pain']\n"
     ]
    },
    {
     "data": {
      "image/png": "[encoded data removed]",
      "text/plain": [
       "<Figure size 800x500 with 1 Axes>"
      ]
     },
     "metadata": {},
     "output_type": "display_data"
    }
   ],
   "source": [
    "#Feature Selection with Univariate Statistical Tests\n",
    "from sklearn.feature_selection import SelectKBest, f_classif\n",
    "\n",
    "pipeline_kbest = ImbPipeline(steps=[\n",
    "    ('imputer', IterativeImputer(max_iter=50, skip_complete=True)),\n",
    "    ('smote', over),  # activate for oversampling\n",
    "    ('undersample', under),   # activate for undersampling\n",
    "    ('scaler', StandardScaler()),\n",
    "    ('select', SelectKBest(score_func=f_classif, k=10)),  # <-- Select top 10 features\n",
    "    ('classifier', RandomForestClassifier(class_weight='balanced',n_estimators=1000,random_state=42))\n",
    "])\n",
    "pipeline_kbest.fit(X_train, y_train)\n",
    "score_kbest = pipeline_kbest.score(X_test, y_test)\n",
    "print(\"Test score with SelectKBest:\", score_kbest)\n",
    "\n",
    "cv_scores_kbest = cross_val_score(pipeline_kbest, X, y, cv=5)\n",
    "print(\"Mean CV score with SelectKBest:\", cv_scores_kbest.mean())\n",
    "selector = pipeline_kbest.named_steps['select']\n",
    "selected_mask = selector.get_support()\n",
    "\n",
    "\n",
    "## get feature names\n",
    "final_names = X_fe_df.columns\n",
    "selected_feature_names_ust = np.array(final_names)[selected_mask]\n",
    "print(\"Selected features:\", selected_feature_names_ust.tolist())\n",
    "\n",
    "scores = selector.scores_\n",
    "\n",
    "# Sort features and scores by score descending\n",
    "sorted_indices = np.argsort(scores)[::-1]\n",
    "sorted_names = np.array(final_names)[sorted_indices]\n",
    "sorted_scores = scores[sorted_indices]\n",
    "\n",
    "plt.figure(figsize=(8, 5))\n",
    "plt.barh(sorted_names, sorted_scores)\n",
    "plt.xlabel(\"F-score\")\n",
    "plt.title(\"Feature scores from SelectKBest (f_classif)\")\n",
    "plt.gca().invert_yaxis()  # Highest score on top\n",
    "plt.tight_layout()\n",
    "plt.show()\n"
   ]
  },
  {
   "cell_type": "code",
   "execution_count": 19,
   "metadata": {},
   "outputs": [
    {
     "name": "stdout",
     "output_type": "stream",
     "text": [
      "Test score (RF with selected features): 0.42483660130718953\n"
     ]
    }
   ],
   "source": [
    "### re-run the pipeline with selected features\n",
    "\n",
    "selected_feature_names = np.array(final_names)[selector.get_support()]\n",
    "selector = pipeline_kbest.named_steps['select']\n",
    "mask = selector.get_support()\n",
    "selected_feature_names = np.array(final_names)[mask]\n",
    "X_train_selected = X_train[selected_feature_names]\n",
    "X_test_selected = X_test[selected_feature_names]\n",
    "pipeline_rf_selected = ImbPipeline(steps=[\n",
    "    ('imputer', IterativeImputer(max_iter=50, skip_complete=True)),\n",
    "    ('smote', over),  # optionally add oversampling\n",
    "    ('undersample', under),  # optionally add undersampling\n",
    "    ('scaler', StandardScaler()),\n",
    "    ('classifier', RandomForestClassifier(\n",
    "        class_weight='balanced',\n",
    "        n_estimators=500,\n",
    "        random_state=42\n",
    "    ))\n",
    "])\n",
    "\n",
    "pipeline_rf_selected.fit(X_train_selected, y_train)\n",
    "score = pipeline_rf_selected.score(X_test_selected, y_test)\n",
    "print(\"Test score (RF with selected features):\", score)\n"
   ]
  },
  {
   "cell_type": "code",
   "execution_count": 36,
   "metadata": {},
   "outputs": [
    {
     "name": "stdout",
     "output_type": "stream",
     "text": [
      "Best parameters: {'pca__n_components': 15}\n",
      "Best cross-validation score: 0.4717\n",
      "Random Forest on PCA features - Test score: 0.4673\n",
      "Classification Report:\n",
      "              precision    recall  f1-score   support\n",
      "\n",
      "           1       0.48      0.60      0.53       131\n",
      "           2       0.50      0.03      0.06        32\n",
      "           3       0.00      0.00      0.00        12\n",
      "           4       0.00      0.00      0.00         3\n",
      "           5       0.45      0.50      0.47       128\n",
      "\n",
      "    accuracy                           0.47       306\n",
      "   macro avg       0.29      0.23      0.21       306\n",
      "weighted avg       0.45      0.47      0.43       306\n",
      "\n"
     ]
    }
   ],
   "source": [
    "### gridsearchiamoooooooooo\n",
    "from sklearn.impute import IterativeImputer\n",
    "from sklearn.preprocessing import StandardScaler\n",
    "from sklearn.decomposition import PCA\n",
    "from sklearn.ensemble import RandomForestClassifier\n",
    "from imblearn.pipeline import Pipeline as ImbPipeline\n",
    "from sklearn.model_selection import GridSearchCV\n",
    "from sklearn.metrics import classification_report\n",
    "\n",
    "# Define the pipeline without a fixed n_components for PCA\n",
    "pipeline = ImbPipeline(steps=[\n",
    "    ('imputer', IterativeImputer(max_iter=50)),\n",
    "    ('scaler', StandardScaler()),\n",
    "    ('pca', PCA()),  # n_components to be tuned via grid search\n",
    "    ('classifier', RandomForestClassifier(class_weight='balanced', n_estimators=1000, random_state=42))\n",
    "])\n",
    "\n",
    "# Define the parameter grid for PCA components\n",
    "param_grid = {\n",
    "    'pca__n_components': [5, 10, 15, 20]  # adjust based on your dataset's dimensionality\n",
    "}\n",
    "\n",
    "# Set up GridSearchCV to tune n_components with 5-fold cross-validation\n",
    "grid_search = GridSearchCV(pipeline, param_grid, cv=5, scoring='accuracy', n_jobs=-1)\n",
    "grid_search.fit(X_train, y_train)\n",
    "\n",
    "print(\"Best parameters:\", grid_search.best_params_)\n",
    "print(\"Best cross-validation score: {:.4f}\".format(grid_search.best_score_))\n",
    "\n",
    "# Evaluate on test set\n",
    "test_score = grid_search.score(X_test, y_test)\n",
    "print(f\"Random Forest on PCA features - Test score: {test_score:.4f}\")\n",
    "\n",
    "y_pred = grid_search.predict(X_test)\n",
    "print(\"Classification Report:\")\n",
    "print(classification_report(y_test, y_pred))\n"
   ]
  },
  {
   "cell_type": "markdown",
   "metadata": {},
   "source": [
    "<hr>"
   ]
  },
  {
   "cell_type": "markdown",
   "metadata": {},
   "source": [
    "# Modeling with only treatment 1 and 5,  (no treatment vs treament) --> convert to binary variable"
   ]
  },
  {
   "cell_type": "code",
   "execution_count": 56,
   "metadata": {},
   "outputs": [
    {
     "name": "stdout",
     "output_type": "stream",
     "text": [
      "N of observations with only 1 and 5: 1292\n",
      "treatment\n",
      "0    651\n",
      "1    641\n",
      "Name: count, dtype: int64\n",
      "Shape of X: (1292, 30)\n",
      "Shape of y: (1292,)\n",
      "Shape of X: (1292, 27)\n",
      "(1033, 27) (1033,)\n"
     ]
    }
   ],
   "source": [
    "df_only1_5 = df.loc[df['treatment'].isin([1,5])]\n",
    "print(\"N of observations with only 1 and 5:\", len(df_only1_5))\n",
    "\n",
    "# Separate features (X) and target (y).\n",
    "X, y = df_only1_5.drop(columns=['treatment']), df_only1_5['treatment']\n",
    "y = y.replace({1: 0, 5: 1})\n",
    "print(y.value_counts())\n",
    "\n",
    "column_names = X.columns\n",
    "print(\"Shape of X:\", X.shape)\n",
    "print(\"Shape of y:\", y.shape)\n",
    "\n",
    "fe = CustomFeatureEngineer(column_names=column_names)\n",
    "X_fe = fe.fit_transform(X)\n",
    "X_fe_df = pd.DataFrame(X_fe, columns=fe.transform(pd.DataFrame(X, columns=column_names)).columns)\n",
    "print(\"Shape of X:\", X_fe_df.shape)\n",
    "X_train, X_test, y_train, y_test = train_test_split(\n",
    "    X_fe_df, y, test_size=0.2, stratify=y, random_state=42\n",
    ")\n",
    "print(X_train.shape, y_train.shape)"
   ]
  },
  {
   "cell_type": "markdown",
   "metadata": {},
   "source": [
    "## Random Forest with undersampling (RandomUnderSampler) and oversampling (SMOTE)"
   ]
  },
  {
   "cell_type": "code",
   "execution_count": null,
   "metadata": {},
   "outputs": [
    {
     "name": "stdout",
     "output_type": "stream",
     "text": [
      "Test score: 0.5676\n",
      "              precision    recall  f1-score   support\n",
      "\n",
      "           0       0.57      0.56      0.57       131\n",
      "           1       0.56      0.58      0.57       128\n",
      "\n",
      "    accuracy                           0.57       259\n",
      "   macro avg       0.57      0.57      0.57       259\n",
      "weighted avg       0.57      0.57      0.57       259\n",
      "\n"
     ]
    }
   ],
   "source": [
    "over = SMOTE(sampling_strategy='not majority', random_state=42)\n",
    "over2 = SMOTENC(categorical_features=cat_cols_idx, sampling_strategy='not majority', random_state=42)\n",
    "under = RandomUnderSampler(sampling_strategy='not minority', random_state=42)\n",
    "\n",
    "pipeline = ImbPipeline(steps=[\n",
    "    ('imputer', IterativeImputer(max_iter=50, skip_complete=True)),\n",
    "    ('smote', over),  # activate for oversampling\n",
    "    ('undersample', under),   # activate for undersampling\n",
    "    ('scaler', StandardScaler()),\n",
    "    ('classifier', RandomForestClassifier(class_weight='balanced',n_estimators = 1000, random_state = 42))\n",
    "])\n",
    "\n",
    "pipeline.fit(X_train, y_train)\n",
    "score = pipeline.score(X_test, y_test)\n",
    "print(f\"Test score: {score:.4f}\")\n",
    "\n",
    "y_pred = pipeline.predict(X_test)\n",
    "print(classification_report(y_test, y_pred,))\n",
    "\n",
    "###STRATIFIED cross-validation\n",
    "\n",
    "cv = StratifiedKFold(n_splits=10, shuffle=True, random_state=42)\n",
    "scores = cross_val_score(pipeline, X, y, cv=cv)\n",
    "print(f\"Mean CV accuracy:: {scores.mean():.4f}\")"
   ]
  },
  {
   "cell_type": "markdown",
   "metadata": {},
   "source": [
    "## Random Forest with PCA"
   ]
  },
  {
   "cell_type": "code",
   "execution_count": 138,
   "metadata": {},
   "outputs": [
    {
     "name": "stdout",
     "output_type": "stream",
     "text": [
      "Random Forest on PCA features - Test score: 0.6023\n",
      "Classification Report:\n",
      "              precision    recall  f1-score   support\n",
      "\n",
      "           0       0.62      0.55      0.58       131\n",
      "           1       0.59      0.66      0.62       128\n",
      "\n",
      "    accuracy                           0.60       259\n",
      "   macro avg       0.60      0.60      0.60       259\n",
      "weighted avg       0.60      0.60      0.60       259\n",
      "\n"
     ]
    }
   ],
   "source": [
    "pipeline = ImbPipeline(steps=[\n",
    "    ('imputer', IterativeImputer(max_iter=50)),\n",
    "    ('smote', over),  # activate for oversampling\n",
    "    ('undersample', under),   # activate for undersampling\n",
    "    ('scaler', StandardScaler()),\n",
    "    ('pca', PCA(n_components=10)),\n",
    "    ('classifier', RandomForestClassifier(class_weight='balanced',n_estimators=1000,random_state=42))\n",
    "])\n",
    "\n",
    "pipeline.fit(X_train, y_train)\n",
    "\n",
    "test_score = pipeline.score(X_test, y_test)\n",
    "print(f\"Random Forest on PCA features - Test score: {test_score:.4f}\")\n",
    "\n",
    "y_pred = pipeline.predict(X_test)\n",
    "print(\"Classification Report:\")\n",
    "print(classification_report(y_test, y_pred))"
   ]
  },
  {
   "cell_type": "code",
   "execution_count": 141,
   "metadata": {},
   "outputs": [
    {
     "data": {
      "image/png": "[encoded data removed]",
      "text/plain": [
       "<Figure size 800x600 with 1 Axes>"
      ]
     },
     "metadata": {},
     "output_type": "display_data"
    }
   ],
   "source": [
    "rf_model = pipeline.named_steps['classifier']\n",
    "pca_model = pipeline.named_steps['pca']\n",
    "importances = rf_model.feature_importances_\n",
    "# Get PCA components matrix (shape: n_components x n_original_features)\n",
    "pca_components = np.abs(pca_model.components_)\n",
    "\n",
    "# Weighted contribution of each original feature\n",
    "# (multiply each component's loadings by that PC's importance)\n",
    "weighted = pca_components.T @ importances  # shape: (n_original_features,)\n",
    "\n",
    "# Normalize\n",
    "weighted /= weighted.sum()\n",
    "\n",
    "# Map to original feature names\n",
    "feature_scores = pd.Series(weighted, index=X_train.columns)\n",
    "important_features = feature_scores.sort_values(ascending=False)\n",
    "#print(\"Top contributing original features to PCA-RF model:\")\n",
    "##print(important_features.head(10))\n",
    "important_features.head(20).plot(kind='barh', figsize=(8, 6))\n",
    "plt.title('Top 20 Important Original Features (via PCA + RF)')\n",
    "plt.xlabel('Importance Score')\n",
    "plt.gca().invert_yaxis()\n",
    "plt.tight_layout()\n",
    "plt.show()\n"
   ]
  },
  {
   "cell_type": "markdown",
   "metadata": {},
   "source": [
    "## Feature Selection with Univariate Statistical Tests"
   ]
  },
  {
   "cell_type": "markdown",
   "metadata": {},
   "source": [
    "#### Without Oversampling and Undersampling"
   ]
  },
  {
   "cell_type": "code",
   "execution_count": 142,
   "metadata": {},
   "outputs": [
    {
     "name": "stdout",
     "output_type": "stream",
     "text": [
      "Test score (RF on selected PCA components): 0.59073359\n"
     ]
    }
   ],
   "source": [
    "pipeline_kbest = ImbPipeline(steps=[\n",
    "    ('imputer', IterativeImputer(max_iter=50)),\n",
    "    #('smote', over),\n",
    "    #('undersample', under),\n",
    "    ('scaler', StandardScaler()),\n",
    "    #### ('pca', PCA(n_components=12)),  <-- commented out\n",
    "    ('select', SelectKBest(score_func=f_classif, k=10)),\n",
    "    ('classifier', RandomForestClassifier(\n",
    "        class_weight='balanced',\n",
    "        n_estimators=1000,\n",
    "        random_state=42\n",
    "    ))\n",
    "])\n",
    "pipeline_kbest.fit(X_train, y_train)\n",
    "\n",
    "pipeline_transform = ImbPipeline(steps=[\n",
    "    ('imputer', IterativeImputer(max_iter=50)),\n",
    "    #('smote', over),\n",
    "    #('undersample', under),\n",
    "    ('scaler', StandardScaler()),\n",
    "    ('pca', PCA(n_components=12)),  # PCA back in here\n",
    "    ('select', SelectKBest(score_func=f_classif, k=10))\n",
    "])\n",
    "\n",
    "# Transform X_train and X_test to selected PCA components\n",
    "X_train_selected = pipeline_transform.fit_transform(X_train, y_train)\n",
    "X_test_selected = pipeline_transform.transform(X_test)\n",
    "# Train RF on selected components\n",
    "pipeline_final_model = ImbPipeline(steps=[\n",
    "    ('classifier', RandomForestClassifier(\n",
    "        class_weight='balanced',\n",
    "        n_estimators=500,\n",
    "        random_state=42\n",
    "    ))\n",
    "])\n",
    "\n",
    "pipeline_final_model.fit(X_train_selected, y_train)\n",
    "score = pipeline_final_model.score(X_test_selected, y_test)\n",
    "print(f\"Test score (RF on selected PCA components): {score:.8f}\")"
   ]
  },
  {
   "cell_type": "code",
   "execution_count": null,
   "metadata": {},
   "outputs": [
    {
     "data": {
      "image/png": "[encoded data removed]",
      "text/plain": [
       "<Figure size 800x600 with 1 Axes>"
      ]
     },
     "metadata": {},
     "output_type": "display_data"
    },
    {
     "name": "stdout",
     "output_type": "stream",
     "text": [
      "🔍 Top contributing original features:\n",
      "paidwork                   0.083798\n",
      "continuous_pain            0.078042\n",
      "sick_leave                 0.072102\n",
      "failure_symptoms           0.058638\n",
      "loss_muscle_strength       0.056935\n",
      "neck_pain                  0.056819\n",
      "extremely_nervous          0.052227\n",
      "age                        0.050202\n",
      "family_history             0.047847\n",
      "coping_strategy            0.047847\n",
      "neurogenic_signals         0.046039\n",
      "arm_pain                   0.044210\n",
      "low_back_pain_intensity    0.039600\n",
      "weightloss_per_year        0.039481\n",
      "earlier_hospitalization    0.037541\n",
      "dtype: float64\n"
     ]
    }
   ],
   "source": [
    "pca_model = pipeline_transform.named_steps['pca']\n",
    "selector = pipeline_transform.named_steps['select']\n",
    "rf_model = pipeline_final_model.named_steps['classifier']\n",
    "\n",
    "# Step 2: Get selected PCA components and their importances\n",
    "selected_pc_indices = selector.get_support(indices=True)\n",
    "selected_pca_components = pca_model.components_[selected_pc_indices]\n",
    "rf_importances = rf_model.feature_importances_  # one per selected PC\n",
    "\n",
    "# Step 3: Compute weighted contribution of each original feature\n",
    "# Take absolute value of component loadings to avoid sign cancellation\n",
    "weighted_contributions = np.abs(selected_pca_components.T @ rf_importances)\n",
    "weighted_contributions /= weighted_contributions.sum()  # normalize to sum to 1\n",
    "\n",
    "# Step 4: Map to original feature names\n",
    "original_feature_names = X_train.columns\n",
    "feature_importance_series = pd.Series(weighted_contributions, index=original_feature_names)\n",
    "top_features = feature_importance_series.sort_values(ascending=False)\n",
    "\n",
    "# Step 5: Plot top contributors\n",
    "top_features.head(15).plot(kind='barh', figsize=(8, 6))\n",
    "plt.title('Top 15 Contributing Original Features (via PCA + RF)')\n",
    "plt.xlabel('Importance Score')\n",
    "plt.gca().invert_yaxis()\n",
    "plt.tight_layout()\n",
    "plt.show()\n",
    "\n",
    "# Print top features\n",
    "print(\"🔍 Top contributing original features:\")\n",
    "print(top_features.head(15))\n"
   ]
  },
  {
   "cell_type": "markdown",
   "metadata": {},
   "source": [
    "#### With Oversampling and Undersampling"
   ]
  },
  {
   "cell_type": "code",
   "execution_count": 105,
   "metadata": {},
   "outputs": [
    {
     "name": "stdout",
     "output_type": "stream",
     "text": [
      "Test score (RF on selected PCA components with SMOTE + undersampling): 0.59073359\n"
     ]
    }
   ],
   "source": [
    "# Step 1: Preprocessing & Resampling on training data\n",
    "resample_pipeline = ImbPipeline(steps=[\n",
    "    ('imputer', IterativeImputer(max_iter=50)),\n",
    "    ('smote', SMOTE(random_state=42)),\n",
    "    ('undersample', RandomUnderSampler(random_state=42))\n",
    "])\n",
    "\n",
    "X_resampled, y_resampled = resample_pipeline.fit_resample(X_train, y_train)\n",
    "\n",
    "# 💡 Also impute X_test using the same imputer (fitted on X_train)\n",
    "X_test_imputed = resample_pipeline.named_steps['imputer'].transform(X_test)\n",
    "\n",
    "# Step 2: PCA + SelectKBest on resampled data\n",
    "feature_selector = Pipeline(steps=[\n",
    "    ('scaler', StandardScaler()),\n",
    "    ('pca', PCA(n_components=12)),\n",
    "    ('select', SelectKBest(score_func=f_classif, k=10))\n",
    "])\n",
    "\n",
    "X_train_selected = feature_selector.fit_transform(X_resampled, y_resampled)\n",
    "X_test_selected = feature_selector.transform(X_test_imputed)\n",
    "\n",
    "# Step 3: Final model\n",
    "final_model = RandomForestClassifier(\n",
    "    class_weight='balanced',\n",
    "    n_estimators=500,\n",
    "    random_state=42\n",
    ")\n",
    "final_model.fit(X_train_selected, y_resampled)\n",
    "score = final_model.score(X_test_selected, y_test)\n",
    "print(f\"Test score (RF on selected PCA components with SMOTE + undersampling): {score:.8f}\")\n"
   ]
  },
  {
   "cell_type": "markdown",
   "metadata": {},
   "source": [
    "# XGBoost"
   ]
  },
  {
   "cell_type": "code",
   "execution_count": null,
   "metadata": {},
   "outputs": [
    {
     "name": "stdout",
     "output_type": "stream",
     "text": [
      "✅ Test score (Gradient Boosting on selected PCA components): 0.57142857\n",
      "              precision    recall  f1-score   support\n",
      "\n",
      "           0       0.58      0.53      0.55       131\n",
      "           1       0.56      0.62      0.59       128\n",
      "\n",
      "    accuracy                           0.57       259\n",
      "   macro avg       0.57      0.57      0.57       259\n",
      "weighted avg       0.57      0.57      0.57       259\n",
      "\n"
     ]
    }
   ],
   "source": [
    "from sklearn.ensemble import GradientBoostingClassifier\n",
    "\n",
    "# Step 1: Transform pipeline with PCA + SelectKBest\n",
    "pipeline_transform = ImbPipeline(steps=[\n",
    "    ('imputer', IterativeImputer(max_iter=50)),\n",
    "    ('scaler', StandardScaler()),\n",
    "    ('pca', PCA(n_components=12)),\n",
    "    ('select', SelectKBest(score_func=f_classif, k=10))\n",
    "])\n",
    "\n",
    "# Fit-transform training data\n",
    "X_train_selected = pipeline_transform.fit_transform(X_train, y_train)\n",
    "\n",
    "# Impute + transform test data step-by-step\n",
    "X_test_imputed = pipeline_transform.named_steps['imputer'].transform(X_test)\n",
    "X_test_scaled = pipeline_transform.named_steps['scaler'].transform(X_test_imputed)\n",
    "X_test_pca = pipeline_transform.named_steps['pca'].transform(X_test_scaled)\n",
    "X_test_selected = pipeline_transform.named_steps['select'].transform(X_test_pca)\n",
    "\n",
    "# Step 2: Train Gradient Boosting model\n",
    "gb_model = GradientBoostingClassifier(\n",
    "    n_estimators=500,\n",
    "    learning_rate=0.05,\n",
    "    max_depth=10,\n",
    "    random_state=42\n",
    ")\n",
    "\n",
    "gb_model.fit(X_train_selected, y_train)\n",
    "gb_score = gb_model.score(X_test_selected, y_test)\n",
    "print(f\"Test score (Gradient Boosting on selected PCA components): {gb_score:.8f}\")\n",
    "\n",
    "y_pred = gb_model.predict(X_test_selected)\n",
    "print(classification_report(y_test, y_pred))\n"
   ]
  },
  {
   "cell_type": "markdown",
   "metadata": {},
   "source": [
    "# Support Vector Machine"
   ]
  },
  {
   "cell_type": "code",
   "execution_count": 119,
   "metadata": {},
   "outputs": [
    {
     "name": "stdout",
     "output_type": "stream",
     "text": [
      "✅ Test score (SVM on selected PCA components): 0.56370656\n",
      "              precision    recall  f1-score   support\n",
      "\n",
      "           0       0.58      0.50      0.54       131\n",
      "           1       0.55      0.62      0.59       128\n",
      "\n",
      "    accuracy                           0.56       259\n",
      "   macro avg       0.57      0.56      0.56       259\n",
      "weighted avg       0.57      0.56      0.56       259\n",
      "\n"
     ]
    }
   ],
   "source": [
    "from sklearn.svm import SVC\n",
    "from sklearn.impute import IterativeImputer\n",
    "from sklearn.preprocessing import StandardScaler\n",
    "from sklearn.decomposition import PCA\n",
    "from sklearn.feature_selection import SelectKBest, f_classif\n",
    "from imblearn.pipeline import Pipeline as ImbPipeline\n",
    "\n",
    "# Step 1: Preprocessing + PCA + SelectKBest\n",
    "pipeline_transform = ImbPipeline(steps=[\n",
    "    ('imputer', IterativeImputer(max_iter=50)),\n",
    "    ('scaler', StandardScaler()),\n",
    "    ('pca', PCA(n_components=12)),\n",
    "    ('select', SelectKBest(score_func=f_classif, k=10))\n",
    "])\n",
    "\n",
    "# Transform training data\n",
    "X_train_selected = pipeline_transform.fit_transform(X_train, y_train)\n",
    "\n",
    "# Apply same transformation to test data\n",
    "X_test_imputed = pipeline_transform.named_steps['imputer'].transform(X_test)\n",
    "X_test_scaled = pipeline_transform.named_steps['scaler'].transform(X_test_imputed)\n",
    "X_test_pca = pipeline_transform.named_steps['pca'].transform(X_test_scaled)\n",
    "X_test_selected = pipeline_transform.named_steps['select'].transform(X_test_pca)\n",
    "\n",
    "# Step 2: Fit SVM model\n",
    "svm_model = SVC(kernel='linear', C=1.0, gamma='scale', random_state=42)\n",
    "svm_model.fit(X_train_selected, y_train)\n",
    "\n",
    "# Evaluate\n",
    "svm_score = svm_model.score(X_test_selected, y_test)\n",
    "print(f\"✅ Test score (SVM on selected PCA components): {svm_score:.8f}\")\n",
    "\n",
    "from sklearn.metrics import classification_report\n",
    "\n",
    "y_pred = svm_model.predict(X_test_selected)\n",
    "print(classification_report(y_test, y_pred))\n",
    "\n"
   ]
  },
  {
   "cell_type": "markdown",
   "metadata": {},
   "source": [
    "### Grid Search SVM"
   ]
  },
  {
   "cell_type": "code",
   "execution_count": null,
   "metadata": {},
   "outputs": [
    {
     "name": "stdout",
     "output_type": "stream",
     "text": [
      "Fitting 5 folds for each of 24 candidates, totalling 120 fits\n",
      "✅ Best parameters: {'C': 1, 'gamma': 'scale', 'kernel': 'rbf'}\n",
      "✅ Best CV score: 0.5653\n",
      "✅ Test score (best SVM): 0.5521\n",
      "              precision    recall  f1-score   support\n",
      "\n",
      "           0       0.56      0.50      0.53       131\n",
      "           1       0.54      0.60      0.57       128\n",
      "\n",
      "    accuracy                           0.55       259\n",
      "   macro avg       0.55      0.55      0.55       259\n",
      "weighted avg       0.55      0.55      0.55       259\n",
      "\n"
     ]
    }
   ],
   "source": [
    "from sklearn.svm import SVC\n",
    "from sklearn.model_selection import GridSearchCV\n",
    "\n",
    "# Step 1: Transform train and test data\n",
    "X_train_selected = pipeline_transform.fit_transform(X_train, y_train)\n",
    "\n",
    "# Apply the same preprocessing to test set\n",
    "X_test_imputed = pipeline_transform.named_steps['imputer'].transform(X_test)\n",
    "X_test_scaled = pipeline_transform.named_steps['scaler'].transform(X_test_imputed)\n",
    "X_test_pca = pipeline_transform.named_steps['pca'].transform(X_test_scaled)\n",
    "X_test_selected = pipeline_transform.named_steps['select'].transform(X_test_pca)\n",
    "\n",
    "# Step 2: Define SVM and parameter grid\n",
    "svm = SVC(random_state=42)\n",
    "param_grid = {\n",
    "    'C': [0.1, 1, 10],\n",
    "    'gamma': ['scale', 'auto', 0.01, 0.001],\n",
    "    'kernel': ['rbf', 'linear']\n",
    "}\n",
    "\n",
    "# Step 3: Grid search with 5-fold CV\n",
    "grid_search = GridSearchCV(svm, param_grid, cv=5, scoring='accuracy', verbose=1, n_jobs=-1)\n",
    "grid_search.fit(X_train_selected, y_train)\n",
    "\n",
    "# Step 4: Evaluate best model\n",
    "print(f\"✅ Best parameters: {grid_search.best_params_}\")\n",
    "print(f\"✅ Best CV score: {grid_search.best_score_:.4f}\")\n",
    "\n",
    "best_svm = grid_search.best_estimator_\n",
    "test_score = best_svm.score(X_test_selected, y_test)\n",
    "print(f\"✅ Test score (best SVM): {test_score:.4f}\")\n",
    "\n",
    "# Optional: Classification report\n",
    "y_pred = best_svm.predict(X_test_selected)\n",
    "print(classification_report(y_test, y_pred))\n"
   ]
  },
  {
   "cell_type": "markdown",
   "metadata": {},
   "source": [
    "## Logistic Regression"
   ]
  },
  {
   "cell_type": "code",
   "execution_count": 156,
   "metadata": {},
   "outputs": [
    {
     "name": "stdout",
     "output_type": "stream",
     "text": [
      "Optimization terminated successfully.\n",
      "         Current function value: 0.664141\n",
      "         Iterations 5\n",
      "✅ Test accuracy (Logistic Regression): 0.5869\n",
      "📋 Classification Report:\n",
      "              precision    recall  f1-score   support\n",
      "\n",
      "           0       0.61      0.52      0.56       131\n",
      "           1       0.57      0.66      0.61       128\n",
      "\n",
      "    accuracy                           0.59       259\n",
      "   macro avg       0.59      0.59      0.59       259\n",
      "weighted avg       0.59      0.59      0.58       259\n",
      "\n"
     ]
    }
   ],
   "source": [
    "import statsmodels.api as sm\n",
    "from sklearn.metrics import accuracy_score\n",
    "\n",
    "# Step 1: Preprocess X\n",
    "imputer = IterativeImputer(max_iter=50)\n",
    "scaler = StandardScaler()\n",
    "\n",
    "X_train_imputed = imputer.fit_transform(X_train)\n",
    "X_test_imputed = imputer.transform(X_test)\n",
    "\n",
    "X_train_scaled = scaler.fit_transform(X_train_imputed)\n",
    "X_test_scaled = scaler.transform(X_test_imputed)\n",
    "\n",
    "# Step 2: Add constant for intercept\n",
    "X_train_sm = sm.add_constant(X_train_scaled)\n",
    "X_test_sm = sm.add_constant(X_test_scaled)\n",
    "\n",
    "# Step 3: Fit logistic regression using statsmodels\n",
    "logit_model = sm.Logit(y_train, X_train_sm)\n",
    "result = logit_model.fit()\n",
    "\n",
    "# Step 4: Predict probabilities and convert to class labels\n",
    "y_prob = result.predict(X_test_sm)\n",
    "y_pred = (y_prob > 0.5).astype(int)\n",
    "\n",
    "# Step 5: Evaluate\n",
    "acc = accuracy_score(y_test, y_pred)\n",
    "print(f\"✅ Test accuracy (Logistic Regression): {acc:.4f}\")\n",
    "print(\"📋 Classification Report:\")\n",
    "print(classification_report(y_test, y_pred))"
   ]
  },
  {
   "cell_type": "code",
   "execution_count": 157,
   "metadata": {},
   "outputs": [
    {
     "name": "stdout",
     "output_type": "stream",
     "text": [
      "                           Logit Regression Results                           \n",
      "==============================================================================\n",
      "Dep. Variable:              treatment   No. Observations:                 1033\n",
      "Model:                          Logit   Df Residuals:                     1005\n",
      "Method:                           MLE   Df Model:                           27\n",
      "Date:                Thu, 03 Apr 2025   Pseudo R-squ.:                 0.04181\n",
      "Time:                        13:31:02   Log-Likelihood:                -686.06\n",
      "converged:                       True   LL-Null:                       -716.00\n",
      "Covariance Type:            nonrobust   LLR p-value:                 0.0002736\n",
      "==============================================================================\n",
      "                 coef    std err          z      P>|z|      [0.025      0.975]\n",
      "------------------------------------------------------------------------------\n",
      "const         -0.0214      0.064     -0.334      0.738      -0.147       0.104\n",
      "x1            -0.0552      0.072     -0.768      0.443      -0.196       0.086\n",
      "x2            -0.0299      0.070     -0.425      0.671      -0.168       0.108\n",
      "x3             0.2121      0.107      1.981      0.048       0.002       0.422\n",
      "x4             0.0924      0.152      0.609      0.542      -0.205       0.390\n",
      "x5             0.1848      0.092      2.013      0.044       0.005       0.365\n",
      "x6             0.0559      0.109      0.512      0.608      -0.158       0.270\n",
      "x7             0.0143      0.074      0.193      0.847      -0.130       0.159\n",
      "x8             0.0190      0.075      0.253      0.800      -0.128       0.166\n",
      "x9             0.0877      0.066      1.328      0.184      -0.042       0.217\n",
      "x10           -0.0561      0.069     -0.815      0.415      -0.191       0.079\n",
      "x11           -0.0351      0.070     -0.503      0.615      -0.172       0.102\n",
      "x12           -0.0455      0.069     -0.661      0.509      -0.181       0.090\n",
      "x13            0.0387      0.070      0.548      0.583      -0.100       0.177\n",
      "x14            0.0428      0.067      0.642      0.521      -0.088       0.174\n",
      "x15           -0.0212      0.071     -0.300      0.764      -0.160       0.117\n",
      "x16           -0.0887      0.066     -1.346      0.178      -0.218       0.040\n",
      "x17            0.1323      0.067      1.973      0.048       0.001       0.264\n",
      "x18            0.1719      0.078      2.194      0.028       0.018       0.325\n",
      "x19            0.2550      0.074      3.455      0.001       0.110       0.400\n",
      "x20            0.0634      0.069      0.919      0.358      -0.072       0.199\n",
      "x21            0.0812      0.078      1.037      0.300      -0.072       0.235\n",
      "x22           -0.0067      0.069     -0.096      0.923      -0.142       0.129\n",
      "x23            0.0045      0.087      0.052      0.958      -0.165       0.174\n",
      "x24            0.0135      0.077      0.176      0.860      -0.137       0.164\n",
      "x25            0.0953      0.068      1.395      0.163      -0.039       0.229\n",
      "x26           -0.0811      0.077     -1.054      0.292      -0.232       0.070\n",
      "x27            0.1058      0.070      1.514      0.130      -0.031       0.243\n",
      "==============================================================================\n",
      "\n",
      " !!! Top features by statistical significance:\n",
      "                         Coef    StdErr   z-value   p-value  CI Lower  \\\n",
      "Feature                                                                 \n",
      "duration_of_pain     0.254970  0.073808  3.454526  0.000551  0.110310   \n",
      "continuous_pain      0.171854  0.078329  2.193990  0.028236  0.018331   \n",
      "uses_analgesics      0.184808  0.091787  2.013444  0.044068  0.004909   \n",
      "serious_disease      0.212088  0.107057  1.981082  0.047582  0.002261   \n",
      "nocturnal_pain       0.132305  0.067044  1.973396  0.048450  0.000901   \n",
      "kinesiophobia        0.105803  0.069891  1.513832  0.130068 -0.031181   \n",
      "leg_pain             0.095341  0.068349  1.394911  0.163043 -0.038621   \n",
      "coping_strategy     -0.088665  0.065877 -1.345907  0.178333 -0.217782   \n",
      "weightloss_per_year  0.087698  0.066041  1.327935  0.184200 -0.041740   \n",
      "neck_pain           -0.081139  0.076951 -1.054425  0.291689 -0.231960   \n",
      "\n",
      "                     CI Upper  \n",
      "Feature                        \n",
      "duration_of_pain     0.399631  \n",
      "continuous_pain      0.325376  \n",
      "uses_analgesics      0.364708  \n",
      "serious_disease      0.421915  \n",
      "nocturnal_pain       0.263709  \n",
      "kinesiophobia        0.242788  \n",
      "leg_pain             0.229302  \n",
      "coping_strategy      0.040452  \n",
      "weightloss_per_year  0.217136  \n",
      "neck_pain            0.069682  \n"
     ]
    }
   ],
   "source": [
    "print(result.summary())\n",
    "feature_names = ['const'] + list(X_train.columns)\n",
    "summary_df = pd.DataFrame({\n",
    "    \"Feature\": feature_names,\n",
    "    \"Coef\": result.params,\n",
    "    \"StdErr\": result.bse,\n",
    "    \"z-value\": result.tvalues,\n",
    "    \"p-value\": result.pvalues,\n",
    "    \"CI Lower\": result.conf_int()[0],\n",
    "    \"CI Upper\": result.conf_int()[1],\n",
    "}).set_index(\"Feature\")\n",
    "\n",
    "print(\"\\n !!! Top features by statistical significance:\")\n",
    "print(summary_df.sort_values(by=\"p-value\").head(10))"
   ]
  },
  {
   "cell_type": "code",
   "execution_count": null,
   "metadata": {},
   "outputs": [],
   "source": []
  }
 ],
 "metadata": {
  "kernelspec": {
   "display_name": "Python 3",
   "language": "python",
   "name": "python3"
  },
  "language_info": {
   "codemirror_mode": {
    "name": "ipython",
    "version": 3
   },
   "file_extension": ".py",
   "mimetype": "text/x-python",
   "name": "python",
   "nbconvert_exporter": "python",
   "pygments_lexer": "ipython3",
   "version": "3.11.5"
  }
 },
 "nbformat": 4,
 "nbformat_minor": 2
}
