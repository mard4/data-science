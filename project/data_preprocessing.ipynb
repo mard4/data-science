{
 "cells": [
  {
   "cell_type": "markdown",
   "metadata": {},
   "source": [
    "# Data Imputation"
   ]
  },
  {
   "cell_type": "code",
   "execution_count": null,
   "metadata": {},
   "outputs": [],
   "source": [
    "# # iterative imputation transform\n",
    "# from numpy import isnan\n",
    "# from pandas import read_csv\n",
    "# from sklearn.experimental import enable_iterative_imputer\n",
    "# from sklearn.impute import IterativeImputer\n",
    "\n",
    "# data = df_new.values\n",
    "# ix = [i for i in range(data.shape[1]) if i != 0]\n",
    "# X, y = data[:, ix], data[:, 0]\n",
    "# # print total missing\n",
    "# print('Missing: %d' % sum(isnan(X).flatten()))\n",
    "# # define imputer\n",
    "# imputer = IterativeImputer(max_iter = 50, skip_complete = True)\n",
    "# # fit on the dataset\n",
    "# imputer.fit(X)\n",
    "# # transform the dataset\n",
    "# Xtrans = imputer.transform(X)\n",
    "# # print total missing\n",
    "# print('Missing: %d' % sum(isnan(Xtrans).flatten()))\n",
    "     \n",
    "# Missing: 521\n",
    "# Missing: 0\n",
    "\n",
    "# from sklearn.ensemble import RandomForestClassifier\n",
    "# from sklearn.pipeline import Pipeline\n",
    "# # define modeling pipeline\n",
    "# model = RandomForestClassifier()\n",
    "# imputer = IterativeImputer()\n",
    "# pipeline = Pipeline(steps=[('i', imputer), ('m', model)])"
   ]
  },
  {
   "cell_type": "code",
   "execution_count": null,
   "metadata": {},
   "outputs": [],
   "source": []
  },
  {
   "cell_type": "markdown",
   "metadata": {},
   "source": [
    "# Data Visualizaition"
   ]
  },
  {
   "cell_type": "code",
   "execution_count": null,
   "metadata": {},
   "outputs": [],
   "source": [
    "df.columns = df.columns.str.lower()\n",
    "\n",
    "numeric_cols = [\n",
    "    'extremely_nervous', 'irrational_thoughts_risk_lasting',\n",
    "    'coping_strategy', 'kinesiophobia_physical_exercise',\n",
    "    'kinesiophobia_pain_stop', 'neck_pain_intensity', 'low_back_pain_intensity',\n",
    "    'arm_left_pain_intensity', 'arm_right_pain_intensity', 'leg_left_pain_intensity',\n",
    "    'leg_right_pain_intensity', 'decreased_mobility','weightloss_per_year',\n",
    "]\n",
    "df[numeric_cols] = df[numeric_cols].astype(int)\n",
    "\n",
    "print(df.dtypes)\n",
    "\n",
    "## removed columns:   ['Workoverload', 'Relationship_with_colleagues', 'Irrational_thoughts_work', 'Trauma', 'Incoordination', 'working_ability']\n",
    "\n",
    "binary_cols = [\n",
    "    'fever', 'sick_leave', 'earlier_hospitalization', 'familiy_history',\n",
    "    'depression', 'stress', 'uses_analgesics', 'uses_corticosteroids', 'serious_disease',\n",
    "    'neurogenic_signals', 'continuous_pain', 'nocturnal_pain', 'loss_muscle_strength',\n",
    "    'failure_symptoms', 'paidwork'\n",
    "]\n",
    "    \n",
    "df[binary_cols] = df[binary_cols].astype(int)##à#.astype('bool')"
   ]
  },
  {
   "cell_type": "code",
   "execution_count": null,
   "metadata": {},
   "outputs": [],
   "source": [
    "import numpy as np\n",
    "\n",
    "\n",
    "corr = df.drop(columns=['patient_id', 'age']).corr()\n",
    "# Create a mask for the upper triangle\n",
    "mask = np.triu(np.ones(corr.shape), k=1).astype(bool)\n",
    "\n",
    "# Apply the mask\n",
    "corr_masked = corr.mask(mask)\n",
    "\n",
    "# Style the output\n",
    "corr_masked.style.background_gradient(cmap='coolwarm')"
   ]
  },
  {
   "cell_type": "code",
   "execution_count": null,
   "metadata": {},
   "outputs": [],
   "source": [
    "strong_corr = corr_masked.unstack().dropna()\n",
    "\n",
    "# Filter for absolute correlations > 0.5 (excluding 1.0)\n",
    "strong_corr = strong_corr[(strong_corr.abs() > 0.5) & (strong_corr.abs() < 1.0)]\n",
    "\n",
    "# Sort by strength\n",
    "strong_corr = strong_corr.sort_values(key=np.abs, ascending=False)\n",
    "print(strong_corr)"
   ]
  },
  {
   "cell_type": "code",
   "execution_count": null,
   "metadata": {},
   "outputs": [],
   "source": [
    "df[numeric_cols].hist(figsize=(10, 9), bins=20, edgecolor=\"black\")\n",
    "plt.suptitle(\"Histograms of Continous features\", fontsize=16)\n",
    "plt.show()\n",
    "\n",
    "plt.figure(figsize=(10, 9))\n",
    "\n",
    "for i, col in enumerate(numeric_cols, 1):\n",
    "    plt.subplot(4, 4, i)  # Adjust grid size based on the number of numeric columns\n",
    "    sns.boxplot(y=df[col])\n",
    "    plt.title(col)\n",
    "\n",
    "plt.suptitle(\"Boxplots of Continuous Features\", fontsize=16, y=1.02)\n",
    "plt.tight_layout()\n",
    "plt.show()"
   ]
  },
  {
   "cell_type": "code",
   "execution_count": null,
   "metadata": {},
   "outputs": [],
   "source": [
    "df[numeric_cols].describe()"
   ]
  }
 ],
 "metadata": {
  "language_info": {
   "name": "python"
  }
 },
 "nbformat": 4,
 "nbformat_minor": 2
}
